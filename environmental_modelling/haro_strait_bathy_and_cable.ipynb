version https://git-lfs.github.com/spec/v1
oid sha256:dfd5e6fd61d5ebe93023a45f8b69084e6c6dfde28f0294e8dc07dfb7c1f16b0d
size 691306
