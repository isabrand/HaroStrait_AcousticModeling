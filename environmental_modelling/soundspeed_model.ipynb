version https://git-lfs.github.com/spec/v1
oid sha256:8386ad9289680da3292466258e0ae0a3e4ad6e48d7df503f5502674793bb8806
size 1461013
